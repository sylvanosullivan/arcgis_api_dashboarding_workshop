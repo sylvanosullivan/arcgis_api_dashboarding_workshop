{
 "cells": [
  {
   "cell_type": "markdown",
   "metadata": {},
   "source": [
    "Notebook used for the Esri API-integration workshop, wherein the ArcGIS API for Python is introduced to the user.\n",
    "\n",
    "More information here:\n",
    "https://www.eventbrite.com/e/esri-nyc-open-hours-build-a-live-updating-dashboard-with-nyc-open-data-tickets-61502837643"
   ]
  },
  {
   "cell_type": "code",
   "execution_count": 2,
   "metadata": {
    "extensions": {
     "jupyter_dashboards": {
      "version": 1,
      "views": {
       "grid_default": {},
       "report_default": {}
      }
     }
    }
   },
   "outputs": [],
   "source": [
    "from arcgis import GIS"
   ]
  },
  {
   "cell_type": "code",
   "execution_count": 3,
   "metadata": {
    "extensions": {
     "jupyter_dashboards": {
      "version": 1,
      "views": {
       "grid_default": {},
       "report_default": {}
      }
     }
    },
    "scrolled": true
   },
   "outputs": [],
   "source": [
    "gis= GIS()"
   ]
  },
  {
   "cell_type": "code",
   "execution_count": 4,
   "metadata": {
    "extensions": {
     "jupyter_dashboards": {
      "version": 1,
      "views": {
       "grid_default": {},
       "report_default": {}
      }
     }
    }
   },
   "outputs": [
    {
     "name": "stdout",
     "output_type": "stream",
     "text": [
      "Enter password: ········\n"
     ]
    }
   ],
   "source": [
    "gis = GIS(\"https://www.arcgis.com\", \"sylvanos\")"
   ]
  },
  {
   "cell_type": "code",
   "execution_count": null,
   "metadata": {
    "extensions": {
     "jupyter_dashboards": {
      "version": 1,
      "views": {
       "grid_default": {},
       "report_default": {}
      }
     }
    }
   },
   "outputs": [],
   "source": [
    "m1 = gis.map(\"New York, NY\", zoomlevel=12)\n"
   ]
  },
  {
   "cell_type": "code",
   "execution_count": 5,
   "metadata": {
    "extensions": {
     "jupyter_dashboards": {
      "version": 1,
      "views": {
       "grid_default": {},
       "report_default": {}
      }
     }
    }
   },
   "outputs": [
    {
     "data": {
      "text/html": [
       "<div class=\"item_container\" style=\"height: auto; overflow: hidden; border: 1px solid #cfcfcf; border-radius: 2px; background: #f6fafa; line-height: 1.21429em; padding: 10px;\">\n",
       "                    <div class=\"item_left\" style=\"width: 210px; float: left;\">\n",
       "                       <a href='https://sylvanos.maps.arcgis.com/home/item.html?id=cb07deb7abea49b18a7a55406d44bf1c' target='_blank'>\n",
       "                        <img src='data:image/png;base64,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' width='200' height='133' class=\"itemThumbnail\">\n",
       "                       </a>\n",
       "                    </div>\n",
       "\n",
       "                    <div class=\"item_right\"     style=\"float: none; width: auto; overflow: hidden;\">\n",
       "                        <a href='https://sylvanos.maps.arcgis.com/home/item.html?id=cb07deb7abea49b18a7a55406d44bf1c' target='_blank'><b>Borough Boundaries</b>\n",
       "                        </a>\n",
       "                        <br/><img src='https://sylvanos.maps.arcgis.com/home/js/jsapi/esri/css/images/item_type_icons/featureshosted16.png' style=\"vertical-align:middle;\">Feature Layer Collection by sylvanos\n",
       "                        <br/>Last Modified: June 06, 2019\n",
       "                        <br/>0 comments, 1 views\n",
       "                    </div>\n",
       "                </div>\n",
       "                "
      ],
      "text/plain": [
       "<Item title:\"Borough Boundaries\" type:Feature Layer Collection owner:sylvanos>"
      ]
     },
     "metadata": {},
     "output_type": "display_data"
    }
   ],
   "source": [
    "from IPython.display import display\n",
    "\n",
    "items = gis.content.search(\"Borough\", item_type=\"feature layer\")\n",
    "for item in items:\n",
    "    display(item)\n",
    "    item"
   ]
  },
  {
   "cell_type": "code",
   "execution_count": null,
   "metadata": {
    "extensions": {
     "jupyter_dashboards": {
      "version": 1,
      "views": {
       "grid_default": {},
       "report_default": {}
      }
     }
    }
   },
   "outputs": [],
   "source": [
    "m1.add_layer(items[0])\n"
   ]
  },
  {
   "cell_type": "code",
   "execution_count": null,
   "metadata": {
    "extensions": {
     "jupyter_dashboards": {
      "version": 1,
      "views": {
       "grid_default": {},
       "report_default": {}
      }
     }
    }
   },
   "outputs": [],
   "source": [
    "m1"
   ]
  },
  {
   "cell_type": "code",
   "execution_count": null,
   "metadata": {
    "extensions": {
     "jupyter_dashboards": {
      "version": 1,
      "views": {
       "grid_default": {},
       "report_default": {}
      }
     }
    }
   },
   "outputs": [],
   "source": [
    "m2 = gis.map(\"New York, NY\")\n",
    "m2.basemap = 'dark-gray-vector'"
   ]
  },
  {
   "cell_type": "code",
   "execution_count": null,
   "metadata": {
    "extensions": {
     "jupyter_dashboards": {
      "version": 1,
      "views": {
       "grid_default": {},
       "report_default": {}
      }
     }
    }
   },
   "outputs": [],
   "source": [
    "item = gis.content.get(\"5ed2d52b1fb04424b69932e43a61da89\")\n",
    "flayer = item.layers[0]\n",
    "m2.add_layer(flayer)"
   ]
  },
  {
   "cell_type": "markdown",
   "metadata": {
    "extensions": {
     "jupyter_dashboards": {
      "version": 1,
      "views": {
       "grid_default": {},
       "report_default": {}
      }
     }
    }
   },
   "source": [
    "information has been added to the borough map using ArcGis \"enrich\""
   ]
  },
  {
   "cell_type": "code",
   "execution_count": null,
   "metadata": {
    "extensions": {
     "jupyter_dashboards": {
      "version": 1,
      "views": {
       "grid_default": {},
       "report_default": {}
      }
     }
    }
   },
   "outputs": [],
   "source": [
    "m2"
   ]
  },
  {
   "cell_type": "code",
   "execution_count": 6,
   "metadata": {
    "extensions": {
     "jupyter_dashboards": {
      "version": 1,
      "views": {
       "grid_default": {},
       "report_default": {}
      }
     }
    }
   },
   "outputs": [],
   "source": [
    "import pandas as pd"
   ]
  },
  {
   "cell_type": "code",
   "execution_count": 7,
   "metadata": {
    "extensions": {
     "jupyter_dashboards": {
      "version": 1,
      "views": {
       "grid_default": {},
       "report_default": {}
      }
     }
    }
   },
   "outputs": [],
   "source": [
    "from arcgis.features import GeoAccessor, GeoSeriesAccessor"
   ]
  },
  {
   "cell_type": "code",
   "execution_count": null,
   "metadata": {
    "extensions": {
     "jupyter_dashboards": {
      "version": 1,
      "views": {
       "grid_default": {},
       "report_default": {}
      }
     }
    }
   },
   "outputs": [],
   "source": [
    "sdf = pd.DataFrame.spatial.from_layer(flayer)\n",
    "sdf.head()"
   ]
  },
  {
   "cell_type": "code",
   "execution_count": null,
   "metadata": {
    "extensions": {
     "jupyter_dashboards": {
      "version": 1,
      "views": {
       "grid_default": {},
       "report_default": {}
      }
     }
    }
   },
   "outputs": [],
   "source": [
    "sdf.spatial.plot(map_widget = m2,\n",
    "                renderer_type='c',  # for class breaks renderer\n",
    "                method='esriClassifyNaturalBreaks',  # classification algorithm\n",
    "                class_count=5,  # choose the number of classes\n",
    "                col='SENIORS_CY',  # column to get unique values from\n",
    "                cmap='prism',  # color map to pick colors from for each class\n",
    "               )"
   ]
  },
  {
   "cell_type": "code",
   "execution_count": null,
   "metadata": {
    "extensions": {
     "jupyter_dashboards": {
      "version": 1,
      "views": {
       "grid_default": {},
       "report_default": {}
      }
     }
    }
   },
   "outputs": [],
   "source": [
    "m2"
   ]
  },
  {
   "cell_type": "code",
   "execution_count": 8,
   "metadata": {
    "extensions": {
     "jupyter_dashboards": {
      "version": 1,
      "views": {
       "grid_default": {},
       "report_default": {}
      }
     }
    }
   },
   "outputs": [],
   "source": [
    "from arcgis import features"
   ]
  },
  {
   "cell_type": "markdown",
   "metadata": {
    "extensions": {
     "jupyter_dashboards": {
      "version": 1,
      "views": {
       "grid_default": {},
       "report_default": {}
      }
     }
    }
   },
   "source": [
    "below json endpoint query can probably be scripted by using the SODA api"
   ]
  },
  {
   "cell_type": "code",
   "execution_count": null,
   "metadata": {
    "extensions": {
     "jupyter_dashboards": {
      "version": 1,
      "views": {
       "grid_default": {},
       "report_default": {}
      }
     }
    }
   },
   "outputs": [],
   "source": [
    "df = pd.read_json(\"https://data.cityofnewyork.us/resource/b2iz-pps8.json?$limit=500000&$where=inspectiondate%20between%20%272019-01-01T00:00:00%27%20and%20%272019-06-02T23:59:59%27\")"
   ]
  },
  {
   "cell_type": "code",
   "execution_count": null,
   "metadata": {
    "extensions": {
     "jupyter_dashboards": {
      "version": 1,
      "views": {
       "grid_default": {},
       "report_default": {}
      }
     }
    }
   },
   "outputs": [],
   "source": [
    "df.info()"
   ]
  },
  {
   "cell_type": "code",
   "execution_count": null,
   "metadata": {
    "extensions": {
     "jupyter_dashboards": {
      "version": 1,
      "views": {
       "grid_default": {},
       "report_default": {}
      }
     }
    }
   },
   "outputs": [],
   "source": [
    "df.head()"
   ]
  },
  {
   "cell_type": "code",
   "execution_count": null,
   "metadata": {
    "extensions": {
     "jupyter_dashboards": {
      "version": 1,
      "views": {
       "grid_default": {},
       "report_default": {}
      }
     }
    }
   },
   "outputs": [],
   "source": [
    "pd.options.display.max_columns = 500"
   ]
  },
  {
   "cell_type": "code",
   "execution_count": null,
   "metadata": {
    "extensions": {
     "jupyter_dashboards": {
      "version": 1,
      "views": {
       "grid_default": {},
       "report_default": {}
      }
     }
    }
   },
   "outputs": [],
   "source": [
    "csv_output = '~/Documents/hpd_test_csv.csv'"
   ]
  },
  {
   "cell_type": "code",
   "execution_count": null,
   "metadata": {
    "extensions": {
     "jupyter_dashboards": {
      "version": 1,
      "views": {
       "grid_default": {},
       "report_default": {}
      }
     }
    }
   },
   "outputs": [],
   "source": [
    "df.to_csv(csv_output, sep=',', index=False)"
   ]
  },
  {
   "cell_type": "code",
   "execution_count": 21,
   "metadata": {
    "extensions": {
     "jupyter_dashboards": {
      "version": 1,
      "views": {
       "grid_default": {},
       "report_default": {}
      }
     }
    }
   },
   "outputs": [],
   "source": [
    "dfcsv = pd.read_csv(\"~/Documents/hpd_test_csv.csv\")"
   ]
  },
  {
   "cell_type": "code",
   "execution_count": 28,
   "metadata": {},
   "outputs": [
    {
     "data": {
      "text/html": [
       "<div class=\"item_container\" style=\"height: auto; overflow: hidden; border: 1px solid #cfcfcf; border-radius: 2px; background: #f6fafa; line-height: 1.21429em; padding: 10px;\">\n",
       "                    <div class=\"item_left\" style=\"width: 210px; float: left;\">\n",
       "                       <a href='https://sylvanos.maps.arcgis.com/home/item.html?id=9f373323839641c18969f285ea7fee41' target='_blank'>\n",
       "                        <img src='http://static.arcgis.com/images/desktopapp.png' class=\"itemThumbnail\">\n",
       "                       </a>\n",
       "                    </div>\n",
       "\n",
       "                    <div class=\"item_right\"     style=\"float: none; width: auto; overflow: hidden;\">\n",
       "                        <a href='https://sylvanos.maps.arcgis.com/home/item.html?id=9f373323839641c18969f285ea7fee41' target='_blank'><b>HPD_test_2</b>\n",
       "                        </a>\n",
       "                        <br/><img src='https://sylvanos.maps.arcgis.com/home/js/jsapi/esri/css/images/item_type_icons/layers16.png' style=\"vertical-align:middle;\">CSV by sylvanos\n",
       "                        <br/>Last Modified: June 06, 2019\n",
       "                        <br/>0 comments, 0 views\n",
       "                    </div>\n",
       "                </div>\n",
       "                "
      ],
      "text/plain": [
       "<Item title:\"HPD_test_2\" type:CSV owner:sylvanos>"
      ]
     },
     "execution_count": 28,
     "metadata": {},
     "output_type": "execute_result"
    }
   ],
   "source": [
    "title = 'HPD_test_2'\n",
    "item_prop = {'title': title}\n",
    "csv_item = gis.content.add(item_properties=item_prop, data=\"/Users/sylvan/Documents/hpd_test_csv.csv\")\n",
    "csv_item"
   ]
  },
  {
   "cell_type": "code",
   "execution_count": 30,
   "metadata": {
    "extensions": {
     "jupyter_dashboards": {
      "version": 1,
      "views": {
       "grid_default": {},
       "report_default": {}
      }
     }
    }
   },
   "outputs": [
    {
     "name": "stdout",
     "output_type": "stream",
     "text": [
      "The CSV item ID is: 9f373323839641c18969f285ea7fee41\n"
     ]
    },
    {
     "data": {
      "text/plain": [
       "' \\n# Set up publishing parameters (pparms) for publishing.\\npparms = {\"name\": \\'HPD_test\\', \\n          \"targetSR\": {\"latestWkid\": 2263, \"wkid\":102718},\\n          \"extent\":{\"xmin\":923594,\"ymin\":134684,\"xmax\":1066253,\"ymax\":270842,\\n                    \"spatialReference\":{\"wkid\":102718,\"latestWkid\":2263}}}\\n\\nfeature_layer_item.publish()\\n'"
      ]
     },
     "execution_count": 30,
     "metadata": {},
     "output_type": "execute_result"
    }
   ],
   "source": [
    "# Obtain the CSV item ID and publish the CSV item as a hosted feature layer\n",
    "csv_item_id = csv_item.id\n",
    "print(\"The CSV item ID is: \" + str(csv_item_id))\n",
    "\n",
    "# Publishing the CSV as a hosted feature layer (using Web Mercator projected coordinate system)\n",
    "# feature_layer_item = gis.content.get(\"69cc157c2fec4739ac42b98f40d8bba7\")\n",
    "# feature_layer_item.publish()\n",
    "\n",
    "feature_layer_item = gis.content.get(csv_item_id)\n",
    "feature_layer_item.publish()\n",
    "\n",
    "''' \n",
    "# Set up publishing parameters (pparms) for publishing.\n",
    "pparms = {\"name\": 'HPD_test', \n",
    "          \"targetSR\": {\"latestWkid\": 2263, \"wkid\":102718},\n",
    "          \"extent\":{\"xmin\":923594,\"ymin\":134684,\"xmax\":1066253,\"ymax\":270842,\n",
    "                    \"spatialReference\":{\"wkid\":102718,\"latestWkid\":2263}}}\n",
    "\n",
    "feature_layer_item.publish()\n",
    "'''"
   ]
  },
  {
   "cell_type": "code",
   "execution_count": 24,
   "metadata": {
    "extensions": {
     "jupyter_dashboards": {
      "version": 1,
      "views": {
       "grid_default": {},
       "report_default": {}
      }
     }
    }
   },
   "outputs": [],
   "source": [
    "pparms = {\"file_type\":\"csv\",\"name\": 'HPD_test', \n",
    "          \"targetSR\": {\"latestWkid\": 2263, \"wkid\":102718},\n",
    "          \"extent\":{\"xmin\":923594,\"ymin\":134684,\"xmax\":1066253,\"ymax\":270842,\n",
    "                    \"spatialReference\":{\"wkid\":102718,\"latestWkid\":2263}}}\n"
   ]
  },
  {
   "cell_type": "code",
   "execution_count": 31,
   "metadata": {},
   "outputs": [
    {
     "data": {
      "text/plain": [
       "[<Item title:\"HPD_test_2\" type:Feature Layer Collection owner:sylvanos>]"
      ]
     },
     "execution_count": 31,
     "metadata": {},
     "output_type": "execute_result"
    }
   ],
   "source": [
    "search = gis.content.search(query=\"title: HPD_test\", item_type=\"Feature Service\")\n",
    "search"
   ]
  },
  {
   "cell_type": "code",
   "execution_count": null,
   "metadata": {},
   "outputs": [],
   "source": []
  }
 ],
 "metadata": {
  "extensions": {
   "jupyter_dashboards": {
    "activeView": "grid_default",
    "version": 1,
    "views": {
     "grid_default": {
      "cellMargin": 10,
      "defaultCellHeight": 20,
      "maxColumns": 12,
      "name": "grid",
      "type": "grid"
     },
     "report_default": {
      "name": "report",
      "type": "report"
     }
    }
   }
  },
  "kernelspec": {
   "display_name": "Python 3",
   "language": "python",
   "name": "python3"
  },
  "language_info": {
   "codemirror_mode": {
    "name": "ipython",
    "version": 3
   },
   "file_extension": ".py",
   "mimetype": "text/x-python",
   "name": "python",
   "nbconvert_exporter": "python",
   "pygments_lexer": "ipython3",
   "version": "3.7.2"
  }
 },
 "nbformat": 4,
 "nbformat_minor": 2
}
